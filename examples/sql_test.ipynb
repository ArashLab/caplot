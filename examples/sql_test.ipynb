{
 "cells": [
  {
   "cell_type": "markdown",
   "metadata": {},
   "source": [
    "# SQL Examples\n",
    "\n",
    "Let us now experiment with SQL databases. CAPlot supports every database SQL that **SQLAlchemy** supports. "
   ]
  },
  {
   "cell_type": "markdown",
   "metadata": {},
   "source": [
    "As an example, we're going to work with a **SQLite** database that contains two tables; one with the data `variants.tsv.gz` contains and another with `samples.tsv.gz`'s data. To specify any SQL database as the source, we have to use their **URL** which is more or so the same in various DBMS, albeit with a different prefix. "
   ]
  },
  {
   "cell_type": "markdown",
   "metadata": {},
   "source": [
    "Since our database file is stored at `data/db.sqlite`, we have to enter `sqlite:///data/db.sqlite` as the source. Another thing to note is that `loadQuery` is mandatory when you are working with a SQL database, since CAPlot needs a single table."
   ]
  },
  {
   "cell_type": "markdown",
   "metadata": {},
   "source": [
    "## Setup"
   ]
  },
  {
   "cell_type": "code",
   "execution_count": null,
   "metadata": {},
   "outputs": [],
   "source": [
    "from bokeh.io import output_notebook\n",
    "output_notebook()"
   ]
  },
  {
   "cell_type": "code",
   "execution_count": null,
   "metadata": {},
   "outputs": [],
   "source": [
    "import caplot"
   ]
  },
  {
   "cell_type": "markdown",
   "metadata": {},
   "source": [
    "## Examples"
   ]
  },
  {
   "cell_type": "markdown",
   "metadata": {},
   "source": [
    "### PCA"
   ]
  },
  {
   "cell_type": "code",
   "execution_count": null,
   "metadata": {},
   "outputs": [],
   "source": [
    "plot = caplot.PCA(source='sqlite:///data/db.sqlite', loadQuery='SELECT * FROM samples')"
   ]
  },
  {
   "cell_type": "code",
   "execution_count": null,
   "metadata": {},
   "outputs": [],
   "source": [
    "plot.subplots = ['pcaMAF-scores_1', 'pcaMAF-scores_2']\n",
    "plot.coloringColumn = 'pheno-superpopulation'\n",
    "plot.coloringStyle = 'Categorical'\n",
    "plot.coloringPalette = 'Category10'"
   ]
  },
  {
   "cell_type": "code",
   "execution_count": null,
   "metadata": {},
   "outputs": [],
   "source": [
    "plot.Show()"
   ]
  },
  {
   "cell_type": "markdown",
   "metadata": {},
   "source": [
    "### Manhattan"
   ]
  },
  {
   "cell_type": "code",
   "execution_count": null,
   "metadata": {},
   "outputs": [],
   "source": [
    "plot = caplot.Manhattan(source='sqlite:///data/db.sqlite', loadQuery='SELECT * FROM variants')"
   ]
  },
  {
   "cell_type": "code",
   "execution_count": null,
   "metadata": {},
   "outputs": [],
   "source": [
    "plot.contig = 'locus-contig'\n",
    "plot.position = 'locus-position'\n",
    "plot.pvalue = 'LogReg3-p_value'\n",
    "plot.filter = 'SELECT * FROM data WHERE \"maf\">0.2'"
   ]
  },
  {
   "cell_type": "code",
   "execution_count": null,
   "metadata": {},
   "outputs": [],
   "source": [
    "plot.Show()"
   ]
  }
 ],
 "metadata": {
  "kernelspec": {
   "display_name": "Python 3 (ipykernel)",
   "language": "python",
   "name": "python3"
  },
  "language_info": {
   "codemirror_mode": {
    "name": "ipython",
    "version": 3
   },
   "file_extension": ".py",
   "mimetype": "text/x-python",
   "name": "python",
   "nbconvert_exporter": "python",
   "pygments_lexer": "ipython3",
   "version": "3.9.6"
  }
 },
 "nbformat": 4,
 "nbformat_minor": 4
}
