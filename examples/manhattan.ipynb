{
 "cells": [
  {
   "cell_type": "markdown",
   "metadata": {},
   "source": [
    "# Manhattan Plot Tutorial"
   ]
  },
  {
   "cell_type": "code",
   "execution_count": null,
   "metadata": {
    "collapsed": false,
    "jupyter": {
     "outputs_hidden": false
    },
    "pycharm": {
     "name": "#%%\n"
    }
   },
   "outputs": [],
   "source": [
    "import caplot\n",
    "from pprint import pprint\n",
    "from bokeh.plotting import show\n",
    "from bokeh.io import output_notebook\n",
    "output_notebook()"
   ]
  },
  {
   "cell_type": "markdown",
   "metadata": {},
   "source": [
    "## Dataset\n",
    "The dataset used in this notebook is described in [SampleData.md](https://github.com/ArashLab/caplot/tree/main/examples/data/SampleData.md)\n",
    "\n",
    "Briefly the `variants.tsv.gz` contains the following columns\n",
    "- locus-contig: CHR in VCF\n",
    "- locus-position: POS in VCF\n",
    "- alleles: List of allele in a JSON string\n",
    "- REF: first allele in the alleles\n",
    "- ALT: second allele in the alleles\n",
    "- rsid\n",
    "- qual: From 1000 Genome VCF\n",
    "- filters: From 1000 Genome VCF\n",
    "- vep-: All the annotations produced by VEP (joined based on rsid)\n",
    "- variant_qc-: quality-control metrics computed by hail.variant_qc\n",
    "- maf: Minor Allele Frequency\n",
    "- LogReg: 3 logistic regression tests are performed on t2d phenotype\n",
    "    - 1: lrt test with no covariate\n",
    "    - 2: score test with age and isFemale as covariate\n",
    "    - 3: wald test with age, isFemale and all 10 pcaMAF vectors as covariate\n",
    "- LinReg: 3 linear regression tests are performed on bmi phenotype\n",
    "    - 1: with no covariate\n",
    "    - 2: with age and isFemale as covariate\n",
    "    - 3: with age, isFemale and all 10 pcaMAF vectors as covariate"
   ]
  },
  {
   "cell_type": "markdown",
   "metadata": {},
   "source": [
    "### Create the caplot PCA object"
   ]
  },
  {
   "cell_type": "code",
   "execution_count": null,
   "metadata": {},
   "outputs": [],
   "source": [
    "plot = caplot.Manhattan()"
   ]
  },
  {
   "cell_type": "markdown",
   "metadata": {
    "tags": []
   },
   "source": [
    "### Load data\n",
    "You may load data from pandas dataframe, tabular file and SQL database.\\\n",
    "Read the documentaion for this property to see details of suported formats.\\\n",
    "In case, the data source is a file, caplot infer file format from the extension (i.e. `tsv.gz`)"
   ]
  },
  {
   "cell_type": "code",
   "execution_count": null,
   "metadata": {},
   "outputs": [],
   "source": [
    "plot.source = 'data/variants.tsv.gz'"
   ]
  },
  {
   "cell_type": "markdown",
   "metadata": {
    "tags": []
   },
   "source": [
    "### Access internal data \n",
    "caplot store data internally in a pandas dataframe.\\\n",
    "You can access that datafame using `_data`.\\\n",
    "Let see the columns available in the data."
   ]
  },
  {
   "cell_type": "code",
   "execution_count": null,
   "metadata": {},
   "outputs": [],
   "source": [
    "pprint(list(plot._data.columns))"
   ]
  },
  {
   "cell_type": "markdown",
   "metadata": {},
   "source": [
    "### Set the requiered attributes\n",
    "Which columns contains principal components to be ploted?\n",
    "Basically the X and Y coordinate for a scatter plot"
   ]
  },
  {
   "cell_type": "code",
   "execution_count": null,
   "metadata": {},
   "outputs": [],
   "source": [
    "plot.contig = 'locus-contig'\n",
    "plot.position = 'locus-position'\n",
    "plot.pvalue = 'LogReg3-p_value'"
   ]
  },
  {
   "cell_type": "markdown",
   "metadata": {},
   "source": [
    "### Show the plot"
   ]
  },
  {
   "cell_type": "code",
   "execution_count": null,
   "metadata": {},
   "outputs": [],
   "source": [
    "plot.Show()"
   ]
  },
  {
   "cell_type": "markdown",
   "metadata": {
    "tags": []
   },
   "source": [
    "### Smaller points\n",
    "For crowded regions"
   ]
  },
  {
   "cell_type": "code",
   "execution_count": null,
   "metadata": {
    "tags": []
   },
   "outputs": [],
   "source": [
    "plot.pointSize = 2\n",
    "plot.Show()"
   ]
  },
  {
   "cell_type": "markdown",
   "metadata": {},
   "source": [
    "### Too many variants?\n",
    "Let focus on the top 5000 variants."
   ]
  },
  {
   "cell_type": "code",
   "execution_count": null,
   "metadata": {},
   "outputs": [],
   "source": [
    "plot.pointSize = 4\n",
    "plot.top = 5000\n",
    "plot.Show()"
   ]
  },
  {
   "cell_type": "markdown",
   "metadata": {},
   "source": [
    "### Fit it for your purpose\n",
    "Wider with more colors and more dots"
   ]
  },
  {
   "cell_type": "code",
   "execution_count": null,
   "metadata": {},
   "outputs": [],
   "source": [
    "plot.coloringPalette = 'Category20'\n",
    "plot.numColors = 8\n",
    "plot.height = 300\n",
    "plot.width = 1200\n",
    "plot.top = 50000\n",
    "plot.Show()"
   ]
  },
  {
   "cell_type": "code",
   "execution_count": null,
   "metadata": {},
   "outputs": [],
   "source": [
    "# Revert the settings\n",
    "plot.coloringPalette = 'Category10'\n",
    "plot.numColors = 2\n",
    "plot.height = 600\n",
    "plot.width = 800\n",
    "plot.top = 5000"
   ]
  },
  {
   "cell_type": "markdown",
   "metadata": {
    "tags": []
   },
   "source": [
    "### Filter Variants\n",
    "Filter variants using SQL queries.\\\n",
    "Here we focus on protein coding regions"
   ]
  },
  {
   "cell_type": "code",
   "execution_count": null,
   "metadata": {},
   "outputs": [],
   "source": [
    "plot.filter = 'SELECT * FROM data WHERE \"vep-BIOTYPE\"==\"protein_coding\"'\n",
    "plot.Show()"
   ]
  },
  {
   "cell_type": "markdown",
   "metadata": {
    "tags": []
   },
   "source": [
    "### Highligh Variants\n",
    "Highligh variants using SQL queries.\\\n",
    "In this example we highlight variants where minor allele frequencies are above 10%.\\"
   ]
  },
  {
   "cell_type": "code",
   "execution_count": null,
   "metadata": {},
   "outputs": [],
   "source": [
    "plot.highlight = 'SELECT * FROM data WHERE \"maf\">0.1'\n",
    "plot.Show()"
   ]
  },
  {
   "cell_type": "markdown",
   "metadata": {
    "tags": []
   },
   "source": [
    "### More contrast in highlight"
   ]
  },
  {
   "cell_type": "code",
   "execution_count": null,
   "metadata": {},
   "outputs": [],
   "source": [
    "plot.minorAlpha = 0.05\n",
    "plot.Show()"
   ]
  },
  {
   "cell_type": "markdown",
   "metadata": {
    "tags": []
   },
   "source": [
    "### Try grey highlight too clearly see both highlighted node and the background"
   ]
  },
  {
   "cell_type": "code",
   "execution_count": null,
   "metadata": {},
   "outputs": [],
   "source": [
    "plot.minorAlpha = 0.3\n",
    "plot.greyHighlight = True\n",
    "plot.Show()"
   ]
  },
  {
   "cell_type": "markdown",
   "metadata": {},
   "source": [
    "### Add Hovers\n",
    "See variant details instantly when you spot the variant of your interst"
   ]
  },
  {
   "cell_type": "code",
   "execution_count": null,
   "metadata": {},
   "outputs": [],
   "source": [
    "plot.hovers = {'chr': 'locus-contig', 'pos': 'locus-position',\n",
    "               'gene': 'vep-Gene', 'lof': 'vep-LoFtool',\n",
    "               'symbol': 'vep-SYMBOL', 'rsid': 'rsid'}\n",
    "plot.Show()"
   ]
  },
  {
   "cell_type": "markdown",
   "metadata": {
    "tags": []
   },
   "source": [
    "### Hovers is a python dictionary\n",
    "Use dictionary functions to modify hovers."
   ]
  },
  {
   "cell_type": "code",
   "execution_count": null,
   "metadata": {},
   "outputs": [],
   "source": [
    "plot.hovers.pop('gene', None)\n",
    "plot.hovers['symbol'] = 'vep-SYMBOL'\n",
    "plot.hovers.update({'lof': 'vep-LoFtool'})\n",
    "plot.Show()"
   ]
  },
  {
   "cell_type": "markdown",
   "metadata": {
    "tags": []
   },
   "source": [
    "### Even more interactivity with forms"
   ]
  },
  {
   "cell_type": "code",
   "execution_count": null,
   "metadata": {},
   "outputs": [],
   "source": [
    "plot.ShowWithForm()"
   ]
  },
  {
   "cell_type": "markdown",
   "metadata": {
    "tags": []
   },
   "source": [
    "### Ultimate interactivity with customized form\n",
    "In this example `c1` to `c4` are value selectors.\\\n",
    "`c1` and `c2` are used in the filter query.\\\n",
    "`c3` and `c4` are used in the highlight query.\n",
    "\n",
    "`c1` selects the super population.\\\n",
    "`c2` selects the MAF (Minor Allele Frequency).\\\n",
    "`c3` selects the BMI.\\\n",
    "`c4` selects the Gender.\n",
    "\n",
    "Also we color the samples by the sub-population\n"
   ]
  },
  {
   "cell_type": "code",
   "execution_count": null,
   "metadata": {},
   "outputs": [],
   "source": [
    "c1 = '{Minimum MAF:floatSlider:0:0.5:0.01:0.1}'\n",
    "c2 = '{Impact to Highligh:singleChoice:\"vep-IMPACT\":\"MODERATE\"}'\n",
    "c3 = '{BioType to Highligh:singleChoice:\"vep-BIOTYPE\":\"protein_coding\"}'\n",
    "\n",
    "plot.filterTemplate = f'SELECT * FROM data WHERE \"maf\" > {c1}'\n",
    "plot.highlightTemplate = f'SELECT * FROM data WHERE \"vep-IMPACT\" = {c2} OR \"vep-BIOTYPE\" = {c3} '\n",
    "\n",
    "plot.minorAlpha = 0.1\n",
    "plot.greyHighlight = True\n",
    "\n",
    "plot.ShowWithForm()"
   ]
  },
  {
   "cell_type": "markdown",
   "metadata": {
    "tags": []
   },
   "source": [
    "### Save your plot in a variety of formats\n",
    "The format is infered from the file extension.\\\n",
    "Hovers and bokeh tooltip remains active in the html output.\\\n",
    "Note that when you save as HTML it activate output_file().\\\n",
    "As a cnsequence all your subsequent plot.Show() will show the plot in the notebook as well as in a new tab (file).\\\n",
    "To prevent this behaviour you need to reset output and then activate output notebook."
   ]
  },
  {
   "cell_type": "code",
   "execution_count": null,
   "metadata": {},
   "outputs": [],
   "source": [
    "plot.SaveAs('results/manhattan.png')\n",
    "plot.SaveAs('results/manhattan.jpeg')\n",
    "plot.SaveAs('results/manhattan.svg')\n",
    "plot.SaveAs('results/manhattan.pdf')"
   ]
  },
  {
   "cell_type": "code",
   "execution_count": null,
   "metadata": {},
   "outputs": [],
   "source": [
    "plot.SaveAs('results/manhattan.html')"
   ]
  },
  {
   "cell_type": "code",
   "execution_count": null,
   "metadata": {},
   "outputs": [],
   "source": [
    "output_notebook()"
   ]
  },
  {
   "cell_type": "markdown",
   "metadata": {
    "tags": []
   },
   "source": [
    "### Save plot, data and config all together.\n",
    "It is possible to save everything in one file and share it.\\\n",
    "Use `caplot` as your file extension. That's all. "
   ]
  },
  {
   "cell_type": "code",
   "execution_count": null,
   "metadata": {},
   "outputs": [],
   "source": [
    "plot.SaveAs('results/manhattan.caplot')"
   ]
  },
  {
   "cell_type": "markdown",
   "metadata": {
    "tags": []
   },
   "source": [
    "### Restore everything.\n",
    "To test this feature you can restart your notebook (clear all data) and run the following cell.\\\n",
    "It will restore your plot, data and config all together."
   ]
  },
  {
   "cell_type": "code",
   "execution_count": null,
   "metadata": {
    "tags": []
   },
   "outputs": [],
   "source": [
    "plot = caplot.read('results/manhattan.caplot')"
   ]
  },
  {
   "cell_type": "code",
   "execution_count": null,
   "metadata": {
    "tags": []
   },
   "outputs": [],
   "source": [
    "plot.ShowWithForm()"
   ]
  },
  {
   "cell_type": "markdown",
   "metadata": {
    "tags": []
   },
   "source": [
    "### Directly play with bokeh plot\n",
    "Change the title by accessing underying bokeh object"
   ]
  },
  {
   "cell_type": "code",
   "execution_count": null,
   "metadata": {},
   "outputs": [],
   "source": [
    "# revert to single plot\n",
    "plot.subplots = ['pcaMAF-scores_1', 'pcaMAF-scores_2']\n",
    "plot.subplotWidth = 400\n",
    "plot.subplotHeight = 400\n",
    "\n",
    "bokeh_plot = plot.Generate()\n",
    "bokeh_plot.title = 'Manhattan Plot'\n",
    "show(bokeh_plot)"
   ]
  },
  {
   "cell_type": "markdown",
   "metadata": {
    "tags": []
   },
   "source": [
    "### Do it all at once\n",
    "You can set allmost all parameters in the init function"
   ]
  },
  {
   "cell_type": "code",
   "execution_count": null,
   "metadata": {},
   "outputs": [],
   "source": [
    "plot = caplot.Manhattan(source = 'data/variants.tsv.gz',\n",
    "                        contig = 'locus-contig',\n",
    "                        position = 'locus-position',\n",
    "                        pvalue = 'LogReg1-p_value',\n",
    "                        filter = 'SELECT * FROM data WHERE \"maf\">0.01',\n",
    "                        highlight = 'SELECT * FROM data WHERE \"maf\">0.1',\n",
    "                        top = 10000,\n",
    "                        yRange = (0,6))\n",
    "plot.Show()"
   ]
  },
  {
   "cell_type": "markdown",
   "metadata": {},
   "source": [
    "### Get Vep Annotation on the Fly"
   ]
  },
  {
   "cell_type": "code",
   "execution_count": null,
   "metadata": {},
   "outputs": [],
   "source": [
    "plot.VEPLimit=10\n",
    "plot.rsidColumn = 'rsid'"
   ]
  },
  {
   "cell_type": "code",
   "execution_count": null,
   "metadata": {},
   "outputs": [],
   "source": [
    "plot._annotationData"
   ]
  },
  {
   "cell_type": "code",
   "execution_count": null,
   "metadata": {},
   "outputs": [],
   "source": []
  }
 ],
 "metadata": {
  "kernelspec": {
   "display_name": "Python 3 (ipykernel)",
   "language": "python",
   "name": "python3"
  },
  "language_info": {
   "codemirror_mode": {
    "name": "ipython",
    "version": 3
   },
   "file_extension": ".py",
   "mimetype": "text/x-python",
   "name": "python",
   "nbconvert_exporter": "python",
   "pygments_lexer": "ipython3",
   "version": "3.9.6"
  }
 },
 "nbformat": 4,
 "nbformat_minor": 4
}
