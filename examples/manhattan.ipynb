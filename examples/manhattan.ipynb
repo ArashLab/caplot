{
 "cells": [
  {
   "cell_type": "code",
   "execution_count": 5,
   "metadata": {
    "collapsed": false,
    "jupyter": {
     "outputs_hidden": false
    },
    "pycharm": {
     "name": "#%%\n"
    }
   },
   "outputs": [],
   "source": [
    "import pandas as pd\n",
    "from pprint import pprint\n",
    "from caplot import Manhattan"
   ]
  },
  {
   "cell_type": "markdown",
   "metadata": {},
   "source": [
    "# Preview Data"
   ]
  },
  {
   "cell_type": "code",
   "execution_count": 6,
   "metadata": {},
   "outputs": [],
   "source": [
    "df = pd.read_table('data/variants.tsv.gz')"
   ]
  },
  {
   "cell_type": "markdown",
   "metadata": {},
   "source": [
    "# Create Plots"
   ]
  },
  {
   "cell_type": "code",
   "execution_count": null,
   "metadata": {},
   "outputs": [],
   "source": [
    "p = Manhattan()\n",
    "p.LoadData(source='data/variants.tsv.gz', sqlQuery='SELECT * FROM data WHERE qual=100.0')\n",
    "p.Generate(contig='locus-contig', position='locals-position', pvalue='LinReg3-p_value')\n",
    "p.Filter('SELECT * FROM data WHERE LinReg3-p_value<0.001')\n",
    "p.Highlight('SELECT * FROM data WHERE maf>0.01')\n",
    "p.AddHovers({'gene':'vep-gene', 'bioType':'vep-BIOTYPE', 'ccds': 'vep-CCDS'})\n",
    "p.Show()"
   ]
  },
  {
   "cell_type": "code",
   "execution_count": null,
   "metadata": {},
   "outputs": [],
   "source": [
    "p.Filter('SELECT * FROM data WHERE vep-BIOTYPE=\"protein_coding\"')\n",
    "p.Highlight('SELECT * FROM data WHERE variant_qc-p_value_hwe>0.00001')\n",
    "p.DropHover(['ccds'])\n",
    "p.Show()"
   ]
  },
  {
   "cell_type": "code",
   "execution_count": null,
   "metadata": {},
   "outputs": [],
   "source": [
    "p.SaveAsAll('data/plot1')"
   ]
  }
 ],
 "metadata": {
  "interpreter": {
   "hash": "b81f29e1ca296d0c63685862f0f8aa11ce2fe284a325867eff70a053ca7de769"
  },
  "kernelspec": {
   "display_name": "Python 3 (ipykernel)",
   "language": "python",
   "name": "python3"
  },
  "language_info": {
   "codemirror_mode": {
    "name": "ipython",
    "version": 3
   },
   "file_extension": ".py",
   "mimetype": "text/x-python",
   "name": "python",
   "nbconvert_exporter": "python",
   "pygments_lexer": "ipython3",
   "version": "3.9.6"
  }
 },
 "nbformat": 4,
 "nbformat_minor": 4
}
