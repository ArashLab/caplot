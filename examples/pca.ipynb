{
 "cells": [
  {
   "cell_type": "markdown",
   "metadata": {},
   "source": [
    "# PCA Plot Tutorial"
   ]
  },
  {
   "cell_type": "code",
   "execution_count": null,
   "metadata": {
    "collapsed": false,
    "jupyter": {
     "outputs_hidden": false
    },
    "pycharm": {
     "name": "#%%\n"
    }
   },
   "outputs": [],
   "source": [
    "import caplot\n",
    "from pprint import pprint\n",
    "from bokeh.plotting import show\n",
    "from bokeh.io import output_notebook\n",
    "output_notebook()"
   ]
  },
  {
   "cell_type": "markdown",
   "metadata": {},
   "source": [
    "## Dataset\n",
    "The dataset used in this notebook is described in [SampleData.md](https://github.com/ArashLab/caplot/tree/main/examples/data/SampleData.md)\n",
    "\n",
    "Briefly the `samples.tsv.gz` contains the following columns\n",
    "- s: sample id\n",
    "- pheno-: phenotypic information including subpopulation, superpopulation, age, t2d, bmi and isFemale\n",
    "- sample_qc-: quality-control metrics computed by hail.sample_qc\n",
    "- Peinciple Component Analysis (PCA)\n",
    "  - pcaSS1-scores_: The first 3 principle component vectors. Computed from 1% variants randomely selected\n",
    "  - pcaSS2-scores_: The first 10 principle component vectors. Computed from 10% variants randomely selected\n",
    "  - pcaMAF-scores_: The first 10 principle component vectors. Computed from common variants with minor allele frequency above 1%\n",
    "  - pca-scores_: The first 20 principle component vectors. Computed from all variants"
   ]
  },
  {
   "cell_type": "markdown",
   "metadata": {},
   "source": [
    "### Create the caplot PCA object"
   ]
  },
  {
   "cell_type": "code",
   "execution_count": null,
   "metadata": {},
   "outputs": [],
   "source": [
    "plot = caplot.PCA()"
   ]
  },
  {
   "cell_type": "markdown",
   "metadata": {
    "tags": []
   },
   "source": [
    "### Load data\n",
    "You may load data from pandas dataframe, tabular file and SQL database.\\\n",
    "Read the documentaion for this property to see details of suported formats.\\\n",
    "In case, the data source is a file, caplot infer file format from the extension (i.e. `tsv.gz`)"
   ]
  },
  {
   "cell_type": "code",
   "execution_count": null,
   "metadata": {},
   "outputs": [],
   "source": [
    "plot.source = 'data/samples.tsv.gz'"
   ]
  },
  {
   "cell_type": "markdown",
   "metadata": {
    "tags": []
   },
   "source": [
    "### Access internal data \n",
    "caplot store data internally in a pandas dataframe.\\\n",
    "You can access that datafame using `_data`.\\\n",
    "Let see the columns available in the data."
   ]
  },
  {
   "cell_type": "code",
   "execution_count": null,
   "metadata": {},
   "outputs": [],
   "source": [
    "pprint(list(plot._data.columns))"
   ]
  },
  {
   "cell_type": "markdown",
   "metadata": {},
   "source": [
    "### Set the requiered attributes\n",
    "Which columns contains principal components to be ploted?\n",
    "Basically the X and Y coordinate for a scatter plot"
   ]
  },
  {
   "cell_type": "code",
   "execution_count": null,
   "metadata": {},
   "outputs": [],
   "source": [
    "plot.subplots = ['pcaMAF-scores_1', 'pcaMAF-scores_2']"
   ]
  },
  {
   "cell_type": "markdown",
   "metadata": {},
   "source": [
    "### Show the plot"
   ]
  },
  {
   "cell_type": "code",
   "execution_count": null,
   "metadata": {},
   "outputs": [],
   "source": [
    "plot.Show()"
   ]
  },
  {
   "cell_type": "markdown",
   "metadata": {},
   "source": [
    "### Color samples by super-population"
   ]
  },
  {
   "cell_type": "code",
   "execution_count": null,
   "metadata": {},
   "outputs": [],
   "source": [
    "plot.coloringColumn = 'pheno-superpopulation'\n",
    "plot.coloringStyle = 'Categorical'\n",
    "plot.coloringPalette = 'Category10'\n",
    "plot.Show()"
   ]
  },
  {
   "cell_type": "markdown",
   "metadata": {},
   "source": [
    "### Try continues coloring by bmi"
   ]
  },
  {
   "cell_type": "code",
   "execution_count": null,
   "metadata": {},
   "outputs": [],
   "source": [
    "plot.coloringColumn = 'pheno-bmi'\n",
    "plot.coloringStyle = 'Continuous'\n",
    "plot.coloringPalette = 'Magma256'\n",
    "plot.Show()"
   ]
  },
  {
   "cell_type": "markdown",
   "metadata": {},
   "source": [
    "### More than 2 PCA vectors?\n",
    "caplot plots all pairwise combinations"
   ]
  },
  {
   "cell_type": "code",
   "execution_count": null,
   "metadata": {},
   "outputs": [],
   "source": [
    "# Revert to color by super population\n",
    "plot.coloringColumn = 'pheno-superpopulation'\n",
    "plot.coloringStyle = 'Categorical'\n",
    "plot.coloringPalette = 'Category10'\n",
    "\n",
    "plot.subplots = ['pcaMAF-scores_1', 'pcaMAF-scores_2', 'pcaMAF-scores_3', 'pcaMAF-scores_4']\n",
    "plot.Show()"
   ]
  },
  {
   "cell_type": "markdown",
   "metadata": {},
   "source": [
    "### Don't want all combinations?\n",
    "caplot accept list of pairs too."
   ]
  },
  {
   "cell_type": "code",
   "execution_count": null,
   "metadata": {},
   "outputs": [],
   "source": [
    "plot.subplots = [['pcaMAF-scores_1', 'pcaMAF-scores_2'], ['pcaMAF-scores_3', 'pcaMAF-scores_4']]\n",
    "plot.Show()"
   ]
  },
  {
   "cell_type": "markdown",
   "metadata": {
    "tags": []
   },
   "source": [
    "### Filter Samples\n",
    "Filter samples using SQL queries.\\\n",
    "In this example we filter samples with Type 2 Diabetes"
   ]
  },
  {
   "cell_type": "code",
   "execution_count": null,
   "metadata": {},
   "outputs": [],
   "source": [
    "#Revert to a single plot\n",
    "plot.subplots = ['pcaMAF-scores_1', 'pcaMAF-scores_2']\n",
    "\n",
    "plot.filter = 'SELECT * FROM data WHERE \"pheno-t2d\"==1'\n",
    "plot.Show()"
   ]
  },
  {
   "cell_type": "markdown",
   "metadata": {
    "tags": []
   },
   "source": [
    "### Highligh Samples\n",
    "Highligh samples using SQL queries.\\\n",
    "In this example we highlight samples younger than 40.\\\n",
    "Zoom in using bokeh tooltip to better see highlighted samples."
   ]
  },
  {
   "cell_type": "code",
   "execution_count": null,
   "metadata": {},
   "outputs": [],
   "source": [
    "plot.highlight = 'SELECT * FROM data WHERE \"pheno-age\"<40'\n",
    "plot.Show()"
   ]
  },
  {
   "cell_type": "markdown",
   "metadata": {
    "jp-MarkdownHeadingCollapsed": true,
    "tags": []
   },
   "source": [
    "### More contrast in highlight"
   ]
  },
  {
   "cell_type": "code",
   "execution_count": null,
   "metadata": {},
   "outputs": [],
   "source": [
    "plot.minorAlpha = 0.05\n",
    "plot.Show()"
   ]
  },
  {
   "cell_type": "markdown",
   "metadata": {},
   "source": [
    "### Add Hovers\n",
    "This way you can see sample id and gender once hover over a sample. "
   ]
  },
  {
   "cell_type": "code",
   "execution_count": null,
   "metadata": {},
   "outputs": [],
   "source": [
    "plot.hovers = {'id': 's', 'isFemale': 'pheno-isFemale'}\n",
    "plot.Show()"
   ]
  },
  {
   "cell_type": "markdown",
   "metadata": {
    "tags": []
   },
   "source": [
    "### Hovers is a python dictionary\n",
    "Use dictionary functions to modify hovers.\n",
    "For eaxample to remove the gender and add call rate and TiTv ratio:"
   ]
  },
  {
   "cell_type": "code",
   "execution_count": null,
   "metadata": {},
   "outputs": [],
   "source": [
    "plot.hovers.pop('id', None)\n",
    "plot.hovers['call-rate'] = 'sample_qc-call_rate'\n",
    "plot.hovers.update({'TiTv-ratio': 'sample_qc-r_ti_tv'})\n",
    "plot.Show()"
   ]
  },
  {
   "cell_type": "markdown",
   "metadata": {
    "tags": []
   },
   "source": [
    "### Even more interactivity with a form\n",
    "Run the following cell, and click Show.\\\n",
    "Play with the form and click Shwo again."
   ]
  },
  {
   "cell_type": "code",
   "execution_count": null,
   "metadata": {},
   "outputs": [],
   "source": [
    "plot.ShowWithForm()"
   ]
  },
  {
   "cell_type": "markdown",
   "metadata": {
    "tags": []
   },
   "source": [
    "### Ultimate interactivity with customized form\n",
    "In this example `c1` to `c4` are value selectors.\\\n",
    "`c1` and `c2` are used in the filter query.\\\n",
    "`c3` and `c4` are used in the highlight query.\n",
    "\n",
    "`c1` selects the super population.\\\n",
    "`c2` selects the age.\\\n",
    "`c3` selects the BMI.\\\n",
    "`c4` selects the Gender.\n",
    "\n",
    "Also we color the samples by the sub-population\n"
   ]
  },
  {
   "cell_type": "code",
   "execution_count": null,
   "metadata": {},
   "outputs": [],
   "source": [
    "c1 = '{SuperPop to Filter:singleChoice:\"pheno-superpopulation\":\"AMR\"}'\n",
    "c2 = '25' #'{Minimum Age to Filter:intSlider:5:100:5:25}'\n",
    "c3 = '{Highligh BMI above:floatBox:18.55}'\n",
    "c4 = 'True' #'{Filter SuperPop:singleChoice:\"pheno-isFemale\":\"True\"}'\n",
    "\n",
    "plot.coloringColumn = 'pheno-subpopulation'\n",
    "plot.filterTemplate = f'SELECT * FROM data WHERE \"pheno-superpopulation\" = {c1} AND \"pheno-age\" > {c2}'\n",
    "plot.highlightTemplate = f'SELECT * FROM data WHERE \"pheno-bmi\" > {c3} AND \"pheno-isFemale\" = {c4}'\n",
    "\n",
    "plot.ShowWithForm()"
   ]
  },
  {
   "cell_type": "code",
   "execution_count": null,
   "metadata": {},
   "outputs": [],
   "source": [
    "plot.coloringColumn = 'pheno-superpopulation'"
   ]
  },
  {
   "cell_type": "markdown",
   "metadata": {
    "tags": []
   },
   "source": [
    "### Save your plot in a variety of formats\n",
    "The format is infered from the file extension.\\\n",
    "Hovers and bokeh tooltip remains active in the html output."
   ]
  },
  {
   "cell_type": "code",
   "execution_count": null,
   "metadata": {},
   "outputs": [],
   "source": [
    "#plot.SaveAs('results/pca.html')\n",
    "plot.SaveAs('results/pca.png')\n",
    "plot.SaveAs('results/pca.svg')"
   ]
  },
  {
   "cell_type": "markdown",
   "metadata": {
    "tags": []
   },
   "source": [
    "### Save plot, data and config all together.\n",
    "It is possible to save everything in one file and share it.\\\n",
    "Use `caplot` as your file extension. That's all. "
   ]
  },
  {
   "cell_type": "code",
   "execution_count": null,
   "metadata": {},
   "outputs": [],
   "source": [
    "plot.SaveAs('results/pca.caplot')"
   ]
  },
  {
   "cell_type": "markdown",
   "metadata": {
    "tags": []
   },
   "source": [
    "### Restore everything.\n",
    "To test this feature you can restart your notebook (clear all data) and run the following cell.\\\n",
    "It will restore your plot, data and config all together."
   ]
  },
  {
   "cell_type": "code",
   "execution_count": null,
   "metadata": {
    "tags": []
   },
   "outputs": [],
   "source": [
    "plot = caplot.read('results/pca.caplot')"
   ]
  },
  {
   "cell_type": "code",
   "execution_count": null,
   "metadata": {
    "tags": []
   },
   "outputs": [],
   "source": [
    "plot.ShowWithForm()"
   ]
  },
  {
   "cell_type": "markdown",
   "metadata": {},
   "source": [
    "### Too many plots?\n",
    "smaller plots in more columns could help"
   ]
  },
  {
   "cell_type": "code",
   "execution_count": null,
   "metadata": {},
   "outputs": [],
   "source": [
    "plot.filter = 'SELECT * FROM data'\n",
    "plot.highlight = 'SELECT * FROM data'\n",
    "plot.coloringColumn = 'pheno-superpopulation'\n",
    "\n",
    "plot.subplots = [f'pcaMAF-scores_{i}' for i in range(1,7)]\n",
    "plot.numCols = 5\n",
    "plot.subplotWidth = 200\n",
    "plot.subplotHeight = 200\n",
    "plot.Show()"
   ]
  },
  {
   "cell_type": "markdown",
   "metadata": {
    "tags": []
   },
   "source": [
    "### Smaller points\n",
    "For crowded regions"
   ]
  },
  {
   "cell_type": "code",
   "execution_count": null,
   "metadata": {
    "tags": []
   },
   "outputs": [],
   "source": [
    "plot.pointSize = 1\n",
    "plot.Show()"
   ]
  },
  {
   "cell_type": "markdown",
   "metadata": {
    "tags": []
   },
   "source": [
    "### Directly play with bokeh plot\n",
    "Change the axis title by accessing underying bokeh object"
   ]
  },
  {
   "cell_type": "code",
   "execution_count": null,
   "metadata": {},
   "outputs": [],
   "source": [
    "# revert to single plot\n",
    "plot.subplots = ['pcaMAF-scores_1', 'pcaMAF-scores_2']\n",
    "plot.subplotWidth = 400\n",
    "plot.subplotHeight = 400\n",
    "\n",
    "bokeh_plot = plot.Generate()\n",
    "# bokeh_plot.xaxis.axis_label = 'PC1'\n",
    "# bokeh_plot.yaxis.axis_label = 'PC2'\n",
    "show(bokeh_plot)"
   ]
  },
  {
   "cell_type": "markdown",
   "metadata": {
    "tags": []
   },
   "source": [
    "### Do it all at once\n",
    "You can set all parameters in one go"
   ]
  },
  {
   "cell_type": "code",
   "execution_count": null,
   "metadata": {},
   "outputs": [],
   "source": [
    "plot = caplot.PCA(source = 'data/samples.tsv.gz',\n",
    "                  coloringColumn = 'pheno-superpopulation',\n",
    "                  coloringStyle = 'Categorical',\n",
    "                  coloringPalette = 'Category10',\n",
    "                  subplots = ['pcaMAF-scores_1', 'pcaMAF-scores_2'])\n",
    "plot.Show()"
   ]
  },
  {
   "cell_type": "code",
   "execution_count": null,
   "metadata": {},
   "outputs": [],
   "source": []
  }
 ],
 "metadata": {
  "kernelspec": {
   "display_name": "Python 3 (ipykernel)",
   "language": "python",
   "name": "python3"
  },
  "language_info": {
   "codemirror_mode": {
    "name": "ipython",
    "version": 3
   },
   "file_extension": ".py",
   "mimetype": "text/x-python",
   "name": "python",
   "nbconvert_exporter": "python",
   "pygments_lexer": "ipython3",
   "version": "3.9.6"
  }
 },
 "nbformat": 4,
 "nbformat_minor": 4
}
