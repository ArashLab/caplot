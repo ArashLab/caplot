{
 "cells": [
  {
   "cell_type": "code",
   "execution_count": 1,
   "id": "bf83cf24-efaf-489c-8f08-af732b3762d7",
   "metadata": {},
   "outputs": [],
   "source": [
    "import hail as hl"
   ]
  },
  {
   "cell_type": "code",
   "execution_count": 2,
   "id": "d96e7baf-83da-48c6-8521-3501eb7eea84",
   "metadata": {},
   "outputs": [
    {
     "name": "stdout",
     "output_type": "stream",
     "text": [
      "2021-10-06 10:31:43 WARN  NativeCodeLoader:60 - Unable to load native-hadoop library for your platform... using builtin-java classes where applicable\n"
     ]
    },
    {
     "name": "stderr",
     "output_type": "stream",
     "text": [
      "Setting default log level to \"WARN\".\n",
      "To adjust logging level use sc.setLogLevel(newLevel). For SparkR, use setLogLevel(newLevel).\n"
     ]
    },
    {
     "name": "stdout",
     "output_type": "stream",
     "text": [
      "2021-10-06 10:31:43 WARN  Hail:43 - This Hail JAR was compiled for Spark 3.1.1, running with Spark 3.1.2.\n",
      "  Compatibility is not guaranteed.\n"
     ]
    },
    {
     "name": "stderr",
     "output_type": "stream",
     "text": [
      "Running on Apache Spark version 3.1.2\n",
      "SparkUI available at http://192.168.1.191:4040\n",
      "Welcome to\n",
      "     __  __     <>__\n",
      "    / /_/ /__  __/ /\n",
      "   / __  / _ `/ / /\n",
      "  /_/ /_/\\_,_/_/_/   version 0.2.74-0c3a74d12093\n",
      "LOGGING: writing to /Users/arashbayat/Dropbox (Garvan)/CAPGEN/plot/examples/hail-20211006-1031-0.2.74-0c3a74d12093.log\n"
     ]
    }
   ],
   "source": [
    "hl.init()"
   ]
  },
  {
   "cell_type": "code",
   "execution_count": null,
   "id": "ab05bb26-b557-4b79-8867-2f220540637d",
   "metadata": {},
   "outputs": [],
   "source": [
    "mt = hl.import_vcf('../../sampleData/data/1kg.s2504.v81207.vcf.bgz')\n",
    "mt.describe()"
   ]
  },
  {
   "cell_type": "code",
   "execution_count": null,
   "id": "1b1214ae-ce7e-42b2-b49d-54c408db94d4",
   "metadata": {},
   "outputs": [],
   "source": [
    "ht = hl.import_table('../../sampleData/data/cols.tsv.bgz')#.key_by('s')\n",
    "ht.describe()"
   ]
  },
  {
   "cell_type": "code",
   "execution_count": null,
   "id": "1b68bda5-296a-4c28-af61-c437fc97d090",
   "metadata": {},
   "outputs": [],
   "source": [
    "mt = mt.annotate_cols(abc = ht[mt.col_key])"
   ]
  },
  {
   "cell_type": "code",
   "execution_count": null,
   "id": "c5a13199-9b71-4ccb-98f3-477f8085e3e3",
   "metadata": {},
   "outputs": [],
   "source": [
    "mt.describe()"
   ]
  },
  {
   "cell_type": "code",
   "execution_count": null,
   "id": "29fa9696-6037-41d9-8c92-c5dddbe2ec23",
   "metadata": {},
   "outputs": [],
   "source": [
    "%%sh\n",
    "ls ../../sampleData/data/1kg.s2504.v81207.vcf.bgz\n"
   ]
  },
  {
   "cell_type": "code",
   "execution_count": null,
   "id": "467c1ecd-106e-462a-ac9c-32ee46c6b4b7",
   "metadata": {},
   "outputs": [],
   "source": []
  },
  {
   "cell_type": "code",
   "execution_count": null,
   "id": "c2c149e0-bf8e-4fe5-8ec2-81a485968fef",
   "metadata": {},
   "outputs": [],
   "source": []
  },
  {
   "cell_type": "code",
   "execution_count": null,
   "id": "1c8294f8-5f5a-4171-8926-f31485bfe63c",
   "metadata": {},
   "outputs": [],
   "source": [
    "ht = hl.import_table('../../sampleData/data/samples.tsv.gz', force=True, impute=True)\n",
    "ht = ht.rename({'pheno-t2d':'t2d'})\n",
    "ht.show()"
   ]
  },
  {
   "cell_type": "code",
   "execution_count": null,
   "id": "970aaa73-cca8-46f8-9f8b-8a02a960007a",
   "metadata": {},
   "outputs": [],
   "source": [
    "a = hl.dict({0:False, 1:True})\n",
    "ht.annotate(pheno = hl.rbind(ht['t2d'], lambda x: a[x])).show()"
   ]
  },
  {
   "cell_type": "code",
   "execution_count": null,
   "id": "9e03d023-ad39-4d9d-845f-0cc7421d76ee",
   "metadata": {},
   "outputs": [],
   "source": []
  },
  {
   "cell_type": "code",
   "execution_count": null,
   "id": "016ee419-7bcb-4746-8283-697682411c00",
   "metadata": {},
   "outputs": [],
   "source": [
    "ht.annotate(pheno = hl.rbind(ht.t2d==0, 'case', 'ctrl')).show()"
   ]
  },
  {
   "cell_type": "code",
   "execution_count": null,
   "id": "7562c656-9655-4073-bb6f-e46f050aaec3",
   "metadata": {},
   "outputs": [],
   "source": []
  },
  {
   "cell_type": "code",
   "execution_count": 22,
   "id": "fa171d50-7f3f-41b6-bd9e-27b3b359e879",
   "metadata": {},
   "outputs": [
    {
     "data": {
      "text/plain": [
       "dtype('int32')"
      ]
     },
     "execution_count": 22,
     "metadata": {},
     "output_type": "execute_result"
    }
   ],
   "source": [
    "a[0].dtype"
   ]
  },
  {
   "cell_type": "code",
   "execution_count": null,
   "id": "bbd98af4-232a-4fd3-a0e2-e1d19fcba03f",
   "metadata": {},
   "outputs": [],
   "source": []
  },
  {
   "cell_type": "code",
   "execution_count": 5,
   "id": "6eca2c04-a304-48cb-b227-9e6882072749",
   "metadata": {},
   "outputs": [],
   "source": [
    "a = hl.array([1,2,3])"
   ]
  },
  {
   "cell_type": "code",
   "execution_count": 25,
   "id": "059d0431-5dfe-4013-a391-02c38839ea28",
   "metadata": {},
   "outputs": [
    {
     "name": "stdout",
     "output_type": "stream",
     "text": [
      "2\n"
     ]
    }
   ],
   "source": [
    "i=1\n",
    "print(hl.eval(hl.if_else(i<hl.len(a), a[i], hl.missing(a[0].dtype))))"
   ]
  },
  {
   "cell_type": "code",
   "execution_count": 26,
   "id": "9b8e9000-4e3c-490a-98a5-3ae988728704",
   "metadata": {},
   "outputs": [
    {
     "data": {
      "text/plain": [
       "8"
      ]
     },
     "execution_count": 26,
     "metadata": {},
     "output_type": "execute_result"
    }
   ],
   "source": [
    "int(8.7)"
   ]
  }
 ],
 "metadata": {
  "kernelspec": {
   "display_name": "Python 3 (ipykernel)",
   "language": "python",
   "name": "python3"
  },
  "language_info": {
   "codemirror_mode": {
    "name": "ipython",
    "version": 3
   },
   "file_extension": ".py",
   "mimetype": "text/x-python",
   "name": "python",
   "nbconvert_exporter": "python",
   "pygments_lexer": "ipython3",
   "version": "3.9.6"
  }
 },
 "nbformat": 4,
 "nbformat_minor": 5
}
