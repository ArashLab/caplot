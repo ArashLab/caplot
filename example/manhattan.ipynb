{
 "cells": [
  {
   "cell_type": "code",
   "execution_count": 1,
   "outputs": [],
   "source": [
    "from caplot import Manhattan"
   ],
   "metadata": {
    "collapsed": false,
    "pycharm": {
     "name": "#%%\n"
    }
   }
  },
  {
   "cell_type": "code",
   "execution_count": 2,
   "outputs": [
    {
     "name": "stdout",
     "output_type": "stream",
     "text": [
      "2021-09-20 19:13:51 WARN  Utils:69 - Your hostname, mohammad-81sx resolves to a loopback address: 127.0.1.1; using 192.168.1.103 instead (on interface enp7s0)\n",
      "2021-09-20 19:13:51 WARN  Utils:69 - Set SPARK_LOCAL_IP if you need to bind to another address\n"
     ]
    },
    {
     "name": "stderr",
     "output_type": "stream",
     "text": [
      "WARNING: An illegal reflective access operation has occurred\n",
      "WARNING: Illegal reflective access by org.apache.spark.unsafe.Platform (file:/home/mohammad/Projects/Bayat/Caplot/venv/lib/python3.9/site-packages/pyspark/jars/spark-unsafe_2.12-3.1.2.jar) to constructor java.nio.DirectByteBuffer(long,int)\n",
      "WARNING: Please consider reporting this to the maintainers of org.apache.spark.unsafe.Platform\n",
      "WARNING: Use --illegal-access=warn to enable warnings of further illegal reflective access operations\n",
      "WARNING: All illegal access operations will be denied in a future release\n"
     ]
    },
    {
     "name": "stdout",
     "output_type": "stream",
     "text": [
      "2021-09-20 19:13:52 WARN  NativeCodeLoader:60 - Unable to load native-hadoop library for your platform... using builtin-java classes where applicable\n"
     ]
    },
    {
     "name": "stderr",
     "output_type": "stream",
     "text": [
      "Setting default log level to \"WARN\".\n",
      "To adjust logging level use sc.setLogLevel(newLevel). For SparkR, use setLogLevel(newLevel).\n"
     ]
    },
    {
     "name": "stdout",
     "output_type": "stream",
     "text": [
      "2021-09-20 19:13:52 WARN  Hail:43 - This Hail JAR was compiled for Spark 3.1.1, running with Spark 3.1.2.\n",
      "  Compatibility is not guaranteed.\n"
     ]
    },
    {
     "name": "stderr",
     "output_type": "stream",
     "text": [
      "Running on Apache Spark version 3.1.2\n",
      "SparkUI available at http://mohammad-81sx.local:4040\n",
      "Welcome to\n",
      "     __  __     <>__\n",
      "    / /_/ /__  __/ /\n",
      "   / __  / _ `/ / /\n",
      "  /_/ /_/\\_,_/_/_/   version 0.2.76-d470e2fea3f0\n",
      "LOGGING: writing to /home/mohammad/Projects/Bayat/Caplot/example/hail-20210920-1913-0.2.76-d470e2fea3f0.log\n"
     ]
    }
   ],
   "source": [
    "import hail as hl\n",
    "hl.init()"
   ],
   "metadata": {
    "collapsed": false,
    "pycharm": {
     "name": "#%%\n"
    }
   }
  },
  {
   "cell_type": "code",
   "execution_count": 3,
   "outputs": [],
   "source": [
    "plot = Manhattan()"
   ],
   "metadata": {
    "collapsed": false,
    "pycharm": {
     "name": "#%%\n"
    }
   }
  },
  {
   "cell_type": "code",
   "execution_count": 4,
   "outputs": [
    {
     "name": "stdout",
     "output_type": "stream",
     "text": [
      "----------------------------------------\n",
      "Global fields:\n",
      "    None\n",
      "----------------------------------------\n",
      "Column fields:\n",
      "    's': str\n",
      "    'pheno': struct {\n",
      "        subpopulation: str, \n",
      "        superpopulation: str, \n",
      "        age: int32, \n",
      "        t2d: int32, \n",
      "        bmi: float64, \n",
      "        isFemale: bool\n",
      "    }\n",
      "    'sample_qc': struct {\n",
      "        call_rate: float64, \n",
      "        n_called: int64, \n",
      "        n_not_called: int64, \n",
      "        n_filtered: int64, \n",
      "        n_hom_ref: int64, \n",
      "        n_het: int64, \n",
      "        n_hom_var: int64, \n",
      "        n_non_ref: int64, \n",
      "        n_singleton: int64, \n",
      "        n_snp: int64, \n",
      "        n_insertion: int64, \n",
      "        n_deletion: int64, \n",
      "        n_transition: int64, \n",
      "        n_transversion: int64, \n",
      "        n_star: int64, \n",
      "        r_ti_tv: float64, \n",
      "        r_het_hom_var: float64, \n",
      "        r_insertion_deletion: float64\n",
      "    }\n",
      "    'pcaSS1': struct {\n",
      "        scores: array<float64>\n",
      "    }\n",
      "    'pcaSS2': struct {\n",
      "        scores: array<float64>\n",
      "    }\n",
      "    'pcaMAF': struct {\n",
      "        scores: array<float64>\n",
      "    }\n",
      "    'pca': struct {\n",
      "        scores: array<float64>\n",
      "    }\n",
      "----------------------------------------\n",
      "Row fields:\n",
      "    'locus': locus<GRCh37>\n",
      "    'alleles': array<str>\n",
      "    'rsid': str\n",
      "    'qual': float64\n",
      "    'filters': set<str>\n",
      "    'info': struct {}\n",
      "    'vep': struct {\n",
      "        Location: str, \n",
      "        Allele: str, \n",
      "        Consequence: str, \n",
      "        IMPACT: str, \n",
      "        SYMBOL: str, \n",
      "        Gene: str, \n",
      "        Feature_type: str, \n",
      "        Feature: str, \n",
      "        BIOTYPE: str, \n",
      "        EXON: str, \n",
      "        INTRON: str, \n",
      "        HGVSc: str, \n",
      "        HGVSp: str, \n",
      "        cDNA_position: str, \n",
      "        CDS_position: str, \n",
      "        Protein_position: str, \n",
      "        Amino_acids: str, \n",
      "        Codons: str, \n",
      "        Existing_variation: str, \n",
      "        DISTANCE: str, \n",
      "        STRAND: str, \n",
      "        FLAGS: str, \n",
      "        SYMBOL_SOURCE: str, \n",
      "        HGNC_ID: str, \n",
      "        CANONICAL: str, \n",
      "        MANE_SELECT: str, \n",
      "        MANE_PLUS_CLINICAL: str, \n",
      "        TSL: str, \n",
      "        APPRIS: str, \n",
      "        CCDS: str, \n",
      "        ENSP: str, \n",
      "        SWISSPROT: str, \n",
      "        TREMBL: str, \n",
      "        UNIPARC: str, \n",
      "        UNIPROT_ISOFORM: str, \n",
      "        SIFT: str, \n",
      "        PolyPhen: str, \n",
      "        DOMAINS: str, \n",
      "        HGVS_OFFSET: str, \n",
      "        AF: str, \n",
      "        AFR_AF: str, \n",
      "        AMR_AF: str, \n",
      "        EAS_AF: str, \n",
      "        EUR_AF: str, \n",
      "        SAS_AF: str, \n",
      "        AA_AF: str, \n",
      "        EA_AF: str, \n",
      "        gnomAD_AF: str, \n",
      "        gnomAD_AFR_AF: str, \n",
      "        gnomAD_AMR_AF: str, \n",
      "        gnomAD_ASJ_AF: str, \n",
      "        gnomAD_EAS_AF: str, \n",
      "        gnomAD_FIN_AF: str, \n",
      "        gnomAD_NFE_AF: str, \n",
      "        gnomAD_OTH_AF: str, \n",
      "        gnomAD_SAS_AF: str, \n",
      "        CLIN_SIG: str, \n",
      "        SOMATIC: str, \n",
      "        PHENO: str, \n",
      "        PUBMED: str, \n",
      "        VAR_SYNONYMS: str, \n",
      "        MOTIF_NAME: str, \n",
      "        MOTIF_POS: str, \n",
      "        HIGH_INF_POS: str, \n",
      "        MOTIF_SCORE_CHANGE: str, \n",
      "        TRANSCRIPTION_FACTORS: str, \n",
      "        SpliceAI_pred_DP_AG: str, \n",
      "        SpliceAI_pred_DP_AL: str, \n",
      "        SpliceAI_pred_DP_DG: str, \n",
      "        SpliceAI_pred_DP_DL: str, \n",
      "        SpliceAI_pred_DS_AG: str, \n",
      "        SpliceAI_pred_DS_AL: str, \n",
      "        SpliceAI_pred_DS_DG: str, \n",
      "        SpliceAI_pred_DS_DL: str, \n",
      "        SpliceAI_pred_SYMBOL: str, \n",
      "        MPC: str, \n",
      "        Mastermind_MMID3: str, \n",
      "        MaxEntScan_alt: str, \n",
      "        MaxEntScan_diff: str, \n",
      "        MaxEntScan_ref: str, \n",
      "        AA: str, \n",
      "        BLOSUM62: str, \n",
      "        LoFtool: str, \n",
      "        miRNA: str, \n",
      "        PHENOTYPES: str, \n",
      "        ada_score: str, \n",
      "        rf_score: str\n",
      "    }\n",
      "    'variant_qc': struct {\n",
      "        AC: array<int32>, \n",
      "        AF: array<float64>, \n",
      "        AN: int32, \n",
      "        homozygote_count: array<int32>, \n",
      "        call_rate: float64, \n",
      "        n_called: int64, \n",
      "        n_not_called: int64, \n",
      "        n_filtered: int64, \n",
      "        n_het: int64, \n",
      "        n_non_ref: int64, \n",
      "        het_freq_hwe: float64, \n",
      "        p_value_hwe: float64\n",
      "    }\n",
      "    'maf': float64\n",
      "    'LogReg1': struct {\n",
      "        beta: float64, \n",
      "        chi_sq_stat: float64, \n",
      "        p_value: float64, \n",
      "        fit: struct {\n",
      "            n_iterations: int32, \n",
      "            converged: bool, \n",
      "            exploded: bool\n",
      "        }\n",
      "    }\n",
      "    'LogReg2': struct {\n",
      "        chi_sq_stat: float64, \n",
      "        p_value: float64\n",
      "    }\n",
      "    'LogReg3': struct {\n",
      "        beta: float64, \n",
      "        standard_error: float64, \n",
      "        z_stat: float64, \n",
      "        p_value: float64, \n",
      "        fit: struct {\n",
      "            n_iterations: int32, \n",
      "            converged: bool, \n",
      "            exploded: bool\n",
      "        }\n",
      "    }\n",
      "    'LinReg1': struct {\n",
      "        n: int32, \n",
      "        sum_x: float64, \n",
      "        y_transpose_x: float64, \n",
      "        beta: float64, \n",
      "        standard_error: float64, \n",
      "        t_stat: float64, \n",
      "        p_value: float64\n",
      "    }\n",
      "    'LinReg2': struct {\n",
      "        n: int32, \n",
      "        sum_x: float64, \n",
      "        y_transpose_x: float64, \n",
      "        beta: float64, \n",
      "        standard_error: float64, \n",
      "        t_stat: float64, \n",
      "        p_value: float64\n",
      "    }\n",
      "    'LinReg3': struct {\n",
      "        n: int32, \n",
      "        sum_x: float64, \n",
      "        y_transpose_x: float64, \n",
      "        beta: float64, \n",
      "        standard_error: float64, \n",
      "        t_stat: float64, \n",
      "        p_value: float64\n",
      "    }\n",
      "----------------------------------------\n",
      "Entry fields:\n",
      "    'GT': call\n",
      "----------------------------------------\n",
      "Column key: ['s']\n",
      "Row key: ['locus', 'alleles']\n",
      "----------------------------------------\n"
     ]
    }
   ],
   "source": [
    "mt = hl.read_matrix_table('data.mt')\n",
    "mt.describe()\n"
   ],
   "metadata": {
    "collapsed": false,
    "pycharm": {
     "name": "#%%\n"
    }
   }
  },
  {
   "cell_type": "code",
   "execution_count": null,
   "outputs": [],
   "source": [
    "mt.to_pandas()"
   ],
   "metadata": {
    "collapsed": false,
    "pycharm": {
     "name": "#%%\n"
    }
   }
  }
 ],
 "metadata": {
  "kernelspec": {
   "display_name": "Python 3",
   "language": "python",
   "name": "python3"
  },
  "language_info": {
   "codemirror_mode": {
    "name": "ipython",
    "version": 2
   },
   "file_extension": ".py",
   "mimetype": "text/x-python",
   "name": "python",
   "nbconvert_exporter": "python",
   "pygments_lexer": "ipython2",
   "version": "2.7.6"
  }
 },
 "nbformat": 4,
 "nbformat_minor": 0
}